{
 "cells": [
  {
   "cell_type": "markdown",
   "id": "7d516b0d-fcba-4aeb-9cef-cc62837f7ce4",
   "metadata": {},
   "source": [
    "## Sets"
   ]
  },
  {
   "cell_type": "code",
   "execution_count": 1,
   "id": "6b598b2e-db24-48ef-92f0-6941c309560f",
   "metadata": {},
   "outputs": [],
   "source": [
    "s1 = set()"
   ]
  },
  {
   "cell_type": "code",
   "execution_count": 2,
   "id": "57c827ef-f1de-47cb-81a6-b5f4a6ee2567",
   "metadata": {},
   "outputs": [],
   "source": [
    "s1.add(1)"
   ]
  },
  {
   "cell_type": "code",
   "execution_count": 3,
   "id": "d8a200cf-b63c-4023-986b-b50ad921ffe7",
   "metadata": {},
   "outputs": [
    {
     "data": {
      "text/plain": [
       "set"
      ]
     },
     "execution_count": 3,
     "metadata": {},
     "output_type": "execute_result"
    }
   ],
   "source": [
    "type(s1)"
   ]
  },
  {
   "cell_type": "code",
   "execution_count": 4,
   "id": "8a2ad7cc-bfd8-4cb1-bc16-38109ab26312",
   "metadata": {},
   "outputs": [
    {
     "name": "stdout",
     "output_type": "stream",
     "text": [
      "{1}\n"
     ]
    }
   ],
   "source": [
    "print(s1)"
   ]
  },
  {
   "cell_type": "code",
   "execution_count": 5,
   "id": "c0491449-1dca-4321-bf96-c7f9e8f7be11",
   "metadata": {},
   "outputs": [],
   "source": [
    "s1.remove(1) "
   ]
  },
  {
   "cell_type": "code",
   "execution_count": 6,
   "id": "5cb8b270-47d2-4d77-9756-b3c3f3399a25",
   "metadata": {},
   "outputs": [
    {
     "data": {
      "text/plain": [
       "True"
      ]
     },
     "execution_count": 6,
     "metadata": {},
     "output_type": "execute_result"
    }
   ],
   "source": [
    "s1 = set()\n",
    "s1.add(4)\n",
    "4 in s1"
   ]
  },
  {
   "cell_type": "code",
   "execution_count": 7,
   "id": "db1298a3-ab76-46fe-a9cb-520deeec0c88",
   "metadata": {},
   "outputs": [
    {
     "data": {
      "text/plain": [
       "set"
      ]
     },
     "execution_count": 7,
     "metadata": {},
     "output_type": "execute_result"
    }
   ],
   "source": [
    "s2 = {1,2,3}\n",
    "type(s2)"
   ]
  },
  {
   "cell_type": "code",
   "execution_count": 8,
   "id": "1647e8bc-d171-4d93-8374-920e22ca1b4d",
   "metadata": {},
   "outputs": [
    {
     "data": {
      "text/plain": [
       "{1, 2, 3, 4}"
      ]
     },
     "execution_count": 8,
     "metadata": {},
     "output_type": "execute_result"
    }
   ],
   "source": [
    "s1.union(s2)"
   ]
  },
  {
   "cell_type": "code",
   "execution_count": 9,
   "id": "731f2173-dc2a-4939-b4e5-462a6cddac12",
   "metadata": {},
   "outputs": [
    {
     "data": {
      "text/plain": [
       "{4}"
      ]
     },
     "execution_count": 9,
     "metadata": {},
     "output_type": "execute_result"
    }
   ],
   "source": [
    "s1.difference(s2)"
   ]
  },
  {
   "cell_type": "code",
   "execution_count": 11,
   "id": "13c1e896-0c38-40b8-90eb-dca54df118b9",
   "metadata": {},
   "outputs": [
    {
     "data": {
      "text/plain": [
       "{2}"
      ]
     },
     "execution_count": 11,
     "metadata": {},
     "output_type": "execute_result"
    }
   ],
   "source": [
    "s1.add(2)\n",
    "s1.intersection(s2)"
   ]
  },
  {
   "cell_type": "markdown",
   "id": "31db754f-25e6-4c1d-b4f5-7d8cfc48419a",
   "metadata": {},
   "source": [
    "## Dictionaries"
   ]
  },
  {
   "cell_type": "code",
   "execution_count": 12,
   "id": "745659d1-290a-43b7-a507-f6fbd14ac562",
   "metadata": {},
   "outputs": [],
   "source": [
    "d1 = {'key1':1, '2': 2, 3: 3, True:[1,2]}"
   ]
  },
  {
   "cell_type": "code",
   "execution_count": 13,
   "id": "041d65bd-c5b9-41b6-bd57-d359598e930f",
   "metadata": {},
   "outputs": [
    {
     "data": {
      "text/plain": [
       "[1, 2]"
      ]
     },
     "execution_count": 13,
     "metadata": {},
     "output_type": "execute_result"
    }
   ],
   "source": [
    "d1[True]"
   ]
  },
  {
   "cell_type": "code",
   "execution_count": 15,
   "id": "d6f2969d-5b2e-4a20-8adc-6db25315b9f1",
   "metadata": {},
   "outputs": [
    {
     "data": {
      "text/plain": [
       "2"
      ]
     },
     "execution_count": 15,
     "metadata": {},
     "output_type": "execute_result"
    }
   ],
   "source": [
    "d1['2']"
   ]
  },
  {
   "cell_type": "code",
   "execution_count": 16,
   "id": "a2f22986-91a4-4288-ae5e-7ffc76c0ab1a",
   "metadata": {},
   "outputs": [],
   "source": [
    "d1['anotherKey'] = 234"
   ]
  },
  {
   "cell_type": "code",
   "execution_count": 17,
   "id": "5857d8ab-49ad-4354-bcf4-44e2c6ad0c97",
   "metadata": {},
   "outputs": [
    {
     "data": {
      "text/plain": [
       "dict_values([1, 2, 3, [1, 2], 234])"
      ]
     },
     "execution_count": 17,
     "metadata": {},
     "output_type": "execute_result"
    }
   ],
   "source": [
    "d1.values()"
   ]
  },
  {
   "cell_type": "code",
   "execution_count": 18,
   "id": "a5adc1c0-8b52-4c51-867d-9d8890036633",
   "metadata": {},
   "outputs": [
    {
     "data": {
      "text/plain": [
       "[1, 2, 3, [1, 2], 234]"
      ]
     },
     "execution_count": 18,
     "metadata": {},
     "output_type": "execute_result"
    }
   ],
   "source": [
    "list(d1.values())"
   ]
  },
  {
   "cell_type": "code",
   "execution_count": 20,
   "id": "a7f3787b-37f6-4807-a762-ebd15b08ec7d",
   "metadata": {},
   "outputs": [
    {
     "data": {
      "text/plain": [
       "['key1', '2', 3, True, 'anotherKey']"
      ]
     },
     "execution_count": 20,
     "metadata": {},
     "output_type": "execute_result"
    }
   ],
   "source": [
    "list(d1.keys())"
   ]
  },
  {
   "cell_type": "code",
   "execution_count": 21,
   "id": "e9540276-b621-49da-83c1-d98d56ea4078",
   "metadata": {},
   "outputs": [
    {
     "name": "stdout",
     "output_type": "stream",
     "text": [
      "{'2': 2, 3: 3, True: [1, 2], 'anotherKey': 234}\n"
     ]
    }
   ],
   "source": [
    "del d1['key1']\n",
    "print(d1)"
   ]
  },
  {
   "cell_type": "code",
   "execution_count": 24,
   "id": "663236b6-43ac-4b19-b5e9-18da0ca2ea57",
   "metadata": {},
   "outputs": [
    {
     "data": {
      "text/plain": [
       "True"
      ]
     },
     "execution_count": 24,
     "metadata": {},
     "output_type": "execute_result"
    }
   ],
   "source": [
    "3 in d1"
   ]
  },
  {
   "cell_type": "code",
   "execution_count": 25,
   "id": "1475a3c4-aaa0-436e-983f-171f7ef034ef",
   "metadata": {},
   "outputs": [
    {
     "name": "stdout",
     "output_type": "stream",
     "text": [
      "2 2\n",
      "3 3\n",
      "True [1, 2]\n",
      "anotherKey 234\n"
     ]
    }
   ],
   "source": [
    "for key, value in d1.items():\n",
    "    print(key, value)"
   ]
  },
  {
   "cell_type": "code",
   "execution_count": 26,
   "id": "04205097-7f84-4aaa-80cd-baef01206804",
   "metadata": {},
   "outputs": [
    {
     "name": "stdout",
     "output_type": "stream",
     "text": [
      "2 2\n",
      "3 3\n",
      "True [1, 2]\n",
      "anotherKey 234\n"
     ]
    }
   ],
   "source": [
    "for k in d1:\n",
    "    print(k, d1[k])"
   ]
  },
  {
   "cell_type": "code",
   "execution_count": null,
   "id": "6fdf0ea3-e182-4883-b21e-2120105d4a49",
   "metadata": {},
   "outputs": [],
   "source": []
  }
 ],
 "metadata": {
  "kernelspec": {
   "display_name": "Python 3 (ipykernel)",
   "language": "python",
   "name": "python3"
  },
  "language_info": {
   "codemirror_mode": {
    "name": "ipython",
    "version": 3
   },
   "file_extension": ".py",
   "mimetype": "text/x-python",
   "name": "python",
   "nbconvert_exporter": "python",
   "pygments_lexer": "ipython3",
   "version": "3.9.5"
  }
 },
 "nbformat": 4,
 "nbformat_minor": 5
}
