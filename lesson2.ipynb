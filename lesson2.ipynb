{
 "cells": [
  {
   "cell_type": "markdown",
   "id": "c5a554f4-1578-40d2-9186-90ccdc3d4388",
   "metadata": {},
   "source": [
    "# Type"
   ]
  },
  {
   "cell_type": "code",
   "execution_count": 1,
   "id": "a142c536-ff7b-47c2-ab28-f4fdda12f55e",
   "metadata": {},
   "outputs": [
    {
     "data": {
      "text/plain": [
       "str"
      ]
     },
     "execution_count": 1,
     "metadata": {},
     "output_type": "execute_result"
    }
   ],
   "source": [
    "type('str')"
   ]
  },
  {
   "cell_type": "code",
   "execution_count": 2,
   "id": "114df131-0187-4fe4-bbdc-9095d8d956ed",
   "metadata": {},
   "outputs": [
    {
     "data": {
      "text/plain": [
       "int"
      ]
     },
     "execution_count": 2,
     "metadata": {},
     "output_type": "execute_result"
    }
   ],
   "source": [
    "type(4)"
   ]
  },
  {
   "cell_type": "code",
   "execution_count": 4,
   "id": "38e81337-a48e-4cdf-b567-b1996e03ea03",
   "metadata": {},
   "outputs": [
    {
     "data": {
      "text/plain": [
       "float"
      ]
     },
     "execution_count": 4,
     "metadata": {},
     "output_type": "execute_result"
    }
   ],
   "source": [
    "type(2.4)"
   ]
  },
  {
   "cell_type": "markdown",
   "id": "21c9747e-82b0-4387-8487-ec7c90bdded8",
   "metadata": {},
   "source": [
    "# Strings"
   ]
  },
  {
   "cell_type": "code",
   "execution_count": 5,
   "id": "a030dff8-96f5-4369-9049-a4da1a70db1f",
   "metadata": {},
   "outputs": [
    {
     "data": {
      "text/plain": [
       "'STR'"
      ]
     },
     "execution_count": 5,
     "metadata": {},
     "output_type": "execute_result"
    }
   ],
   "source": [
    "'str'.upper()"
   ]
  },
  {
   "cell_type": "code",
   "execution_count": 7,
   "id": "43fbccde-81e7-4a0d-84a8-13ed6d187bd6",
   "metadata": {},
   "outputs": [
    {
     "data": {
      "text/plain": [
       "'str'"
      ]
     },
     "execution_count": 7,
     "metadata": {},
     "output_type": "execute_result"
    }
   ],
   "source": [
    "'Str'.lower()"
   ]
  },
  {
   "cell_type": "code",
   "execution_count": 8,
   "id": "7c244bfe-9f00-42ec-b811-a94ae2d12092",
   "metadata": {},
   "outputs": [
    {
     "data": {
      "text/plain": [
       "'Alex'"
      ]
     },
     "execution_count": 8,
     "metadata": {},
     "output_type": "execute_result"
    }
   ],
   "source": [
    "'alex'.capitalize()"
   ]
  },
  {
   "cell_type": "code",
   "execution_count": 9,
   "id": "638258f7-fcd1-4858-936a-d11897fe8169",
   "metadata": {},
   "outputs": [
    {
     "data": {
      "text/plain": [
       "1"
      ]
     },
     "execution_count": 9,
     "metadata": {},
     "output_type": "execute_result"
    }
   ],
   "source": [
    "'Willy'.count('ll')"
   ]
  },
  {
   "cell_type": "code",
   "execution_count": 12,
   "id": "374c2ceb-1cbd-46fa-abf4-a4b5cb4a67d0",
   "metadata": {},
   "outputs": [
    {
     "data": {
      "text/plain": [
       "'strstr'"
      ]
     },
     "execution_count": 12,
     "metadata": {},
     "output_type": "execute_result"
    }
   ],
   "source": [
    "'str'*2\n"
   ]
  },
  {
   "cell_type": "code",
   "execution_count": 13,
   "id": "0d26b81c-c388-4157-90c2-06faad2278e3",
   "metadata": {},
   "outputs": [
    {
     "data": {
      "text/plain": [
       "'strone'"
      ]
     },
     "execution_count": 13,
     "metadata": {},
     "output_type": "execute_result"
    }
   ],
   "source": [
    "'str' + 'one'"
   ]
  },
  {
   "cell_type": "code",
   "execution_count": 14,
   "id": "76d9be46-ba97-464a-a654-612e1654bf28",
   "metadata": {},
   "outputs": [
    {
     "data": {
      "text/plain": [
       "True"
      ]
     },
     "execution_count": 14,
     "metadata": {},
     "output_type": "execute_result"
    }
   ],
   "source": [
    "'a' > 'Z'"
   ]
  },
  {
   "cell_type": "code",
   "execution_count": 19,
   "id": "6de24d18-6ced-4bd5-8b5f-315b79955bf7",
   "metadata": {},
   "outputs": [
    {
     "data": {
      "text/plain": [
       "97"
      ]
     },
     "execution_count": 19,
     "metadata": {},
     "output_type": "execute_result"
    }
   ],
   "source": [
    "ord('a')"
   ]
  },
  {
   "cell_type": "markdown",
   "id": "1143a399-05e4-4692-b32e-2bd09c4c8a5c",
   "metadata": {},
   "source": [
    "# Conditionals"
   ]
  },
  {
   "cell_type": "code",
   "execution_count": 22,
   "id": "1926cb8b-0c9a-402c-89e7-85966e761a3f",
   "metadata": {},
   "outputs": [
    {
     "name": "stdout",
     "output_type": "stream",
     "text": [
      "True\n"
     ]
    }
   ],
   "source": [
    "result = 5 == 5\n",
    "print(result)"
   ]
  },
  {
   "cell_type": "markdown",
   "id": "f84d08ae-3378-40e4-83ae-cf869b7d94ee",
   "metadata": {},
   "source": [
    "All conditional operators have lower priority than arithmetical operators"
   ]
  },
  {
   "cell_type": "code",
   "execution_count": 23,
   "id": "0bb3c2ed-753c-4608-b6af-9ef7531ab380",
   "metadata": {},
   "outputs": [
    {
     "data": {
      "text/plain": [
       "True"
      ]
     },
     "execution_count": 23,
     "metadata": {},
     "output_type": "execute_result"
    }
   ],
   "source": [
    "3 < 5 + 5"
   ]
  },
  {
   "cell_type": "code",
   "execution_count": 24,
   "id": "8fabfdbe-41e9-4447-90f9-8f28885ae2d3",
   "metadata": {},
   "outputs": [
    {
     "data": {
      "text/plain": [
       "False"
      ]
     },
     "execution_count": 24,
     "metadata": {},
     "output_type": "execute_result"
    }
   ],
   "source": [
    "True and False"
   ]
  },
  {
   "cell_type": "code",
   "execution_count": 25,
   "id": "440002f6-4e04-48bd-bc01-4861b90146c7",
   "metadata": {},
   "outputs": [
    {
     "data": {
      "text/plain": [
       "True"
      ]
     },
     "execution_count": 25,
     "metadata": {},
     "output_type": "execute_result"
    }
   ],
   "source": [
    "True or False"
   ]
  },
  {
   "cell_type": "code",
   "execution_count": 26,
   "id": "5779d520-8e20-4b93-9e5d-3da94904cc44",
   "metadata": {},
   "outputs": [
    {
     "data": {
      "text/plain": [
       "False"
      ]
     },
     "execution_count": 26,
     "metadata": {},
     "output_type": "execute_result"
    }
   ],
   "source": [
    "not True"
   ]
  },
  {
   "cell_type": "code",
   "execution_count": 29,
   "id": "4e46687d-209e-414d-a594-715db048d603",
   "metadata": {},
   "outputs": [
    {
     "name": "stdout",
     "output_type": "stream",
     "text": [
      "2\n"
     ]
    }
   ],
   "source": [
    "if True == False:\n",
    "    print('1')\n",
    "elif False == False:\n",
    "    print('2')\n",
    "else:\n",
    "    print('3')"
   ]
  },
  {
   "cell_type": "code",
   "execution_count": null,
   "id": "d8a825e8-5818-447f-8023-83782630f7dc",
   "metadata": {},
   "outputs": [],
   "source": []
  }
 ],
 "metadata": {
  "kernelspec": {
   "display_name": "Python 3 (ipykernel)",
   "language": "python",
   "name": "python3"
  },
  "language_info": {
   "codemirror_mode": {
    "name": "ipython",
    "version": 3
   },
   "file_extension": ".py",
   "mimetype": "text/x-python",
   "name": "python",
   "nbconvert_exporter": "python",
   "pygments_lexer": "ipython3",
   "version": "3.9.5"
  }
 },
 "nbformat": 4,
 "nbformat_minor": 5
}
