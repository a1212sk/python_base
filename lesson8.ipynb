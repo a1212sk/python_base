{
 "cells": [
  {
   "cell_type": "markdown",
   "id": "e7a6d6b4-0a4a-4a3d-a024-b83a6da70de5",
   "metadata": {},
   "source": [
    "## Exceptions"
   ]
  },
  {
   "cell_type": "code",
   "execution_count": 1,
   "id": "22b839e0-ad16-48ea-8e9d-8ca4aa39ba6d",
   "metadata": {},
   "outputs": [
    {
     "ename": "Exception",
     "evalue": "Oh bad",
     "output_type": "error",
     "traceback": [
      "\u001b[0;31m---------------------------------------------------------------------------\u001b[0m",
      "\u001b[0;31mException\u001b[0m                                 Traceback (most recent call last)",
      "\u001b[0;32m/tmp/ipykernel_27436/2184408150.py\u001b[0m in \u001b[0;36m<module>\u001b[0;34m\u001b[0m\n\u001b[0;32m----> 1\u001b[0;31m \u001b[0;32mraise\u001b[0m \u001b[0mException\u001b[0m\u001b[0;34m(\u001b[0m\u001b[0;34m\"Oh bad\"\u001b[0m\u001b[0;34m)\u001b[0m\u001b[0;34m\u001b[0m\u001b[0;34m\u001b[0m\u001b[0m\n\u001b[0m",
      "\u001b[0;31mException\u001b[0m: Oh bad"
     ]
    }
   ],
   "source": [
    "raise Exception(\"Oh bad\")"
   ]
  },
  {
   "cell_type": "code",
   "execution_count": 3,
   "id": "d9604e3e-dba6-41c4-b289-b7da0dd0e9e1",
   "metadata": {},
   "outputs": [
    {
     "name": "stdout",
     "output_type": "stream",
     "text": [
      "ups\n"
     ]
    }
   ],
   "source": [
    "try:\n",
    "    1/0\n",
    "except:\n",
    "    print(\"ups\")"
   ]
  },
  {
   "cell_type": "code",
   "execution_count": 4,
   "id": "1ad2c37f-0e2d-4f72-99c8-87b4fdd3b51c",
   "metadata": {},
   "outputs": [
    {
     "name": "stdout",
     "output_type": "stream",
     "text": [
      "division by zero\n",
      "finally\n"
     ]
    }
   ],
   "source": [
    "try:\n",
    "    1/0\n",
    "except Exception as e:\n",
    "    print(e)\n",
    "finally:\n",
    "    print('finally')"
   ]
  },
  {
   "cell_type": "markdown",
   "id": "ea9176a3-096d-41ae-8559-d24a17ba7643",
   "metadata": {},
   "source": [
    "## Lambdas"
   ]
  },
  {
   "cell_type": "code",
   "execution_count": 5,
   "id": "cd095595-bec9-4318-a6ff-d46678ab8ad5",
   "metadata": {},
   "outputs": [
    {
     "data": {
      "text/plain": [
       "4"
      ]
     },
     "execution_count": 5,
     "metadata": {},
     "output_type": "execute_result"
    }
   ],
   "source": [
    "f1 = lambda x: x * 2\n",
    "f1(2)"
   ]
  },
  {
   "cell_type": "code",
   "execution_count": 6,
   "id": "e94f5eaf-5723-4005-826f-12b1a43f01b9",
   "metadata": {},
   "outputs": [
    {
     "data": {
      "text/plain": [
       "3"
      ]
     },
     "execution_count": 6,
     "metadata": {},
     "output_type": "execute_result"
    }
   ],
   "source": [
    "f2 = lambda x,y: x + y\n",
    "f2(1,2)"
   ]
  },
  {
   "cell_type": "markdown",
   "id": "53f0b7bf-a83d-4c03-87d0-7f1e9f55fb1f",
   "metadata": {},
   "source": [
    "## Map"
   ]
  },
  {
   "cell_type": "code",
   "execution_count": 7,
   "id": "41aba263-55ab-44d5-82bc-870b216a8de7",
   "metadata": {},
   "outputs": [
    {
     "name": "stdout",
     "output_type": "stream",
     "text": [
      "<class 'map'>\n",
      "[2, 4, 6, 8]\n"
     ]
    }
   ],
   "source": [
    "list1 = [1,2,3,4]\n",
    "mp = map(lambda i: i * 2, list1)\n",
    "print(type(mp))\n",
    "print(list(mp))"
   ]
  },
  {
   "cell_type": "markdown",
   "id": "8f14a2a3-526d-406c-a329-7f840dcf59bb",
   "metadata": {},
   "source": [
    "## Filter"
   ]
  },
  {
   "cell_type": "code",
   "execution_count": 8,
   "id": "49cc34fc-d781-41ba-99ee-22e9d7e46f27",
   "metadata": {},
   "outputs": [
    {
     "name": "stdout",
     "output_type": "stream",
     "text": [
      "<class 'filter'>\n",
      "[2, 4]\n"
     ]
    }
   ],
   "source": [
    "list1 = [1,2,3,4]\n",
    "filtered = filter(lambda i: i%2==0, list1)\n",
    "print(type(filtered))\n",
    "print(list(filtered))"
   ]
  },
  {
   "cell_type": "markdown",
   "id": "26f69581-8ff3-4307-9d0f-edb0e73bb885",
   "metadata": {},
   "source": [
    "## F Strings"
   ]
  },
  {
   "cell_type": "code",
   "execution_count": 10,
   "id": "53acbbeb-ed78-453d-96d0-8ff7bd5519e5",
   "metadata": {},
   "outputs": [
    {
     "name": "stdout",
     "output_type": "stream",
     "text": [
      "5 + 5 = 10\n"
     ]
    }
   ],
   "source": [
    "s1 = f'5 + 5 = {5 + 5}'\n",
    "print(s1)"
   ]
  },
  {
   "cell_type": "code",
   "execution_count": 13,
   "id": "7bac5a41-38e0-4116-ac3d-18f6dfe61721",
   "metadata": {},
   "outputs": [
    {
     "name": "stdout",
     "output_type": "stream",
     "text": [
      "ONE\n"
     ]
    }
   ],
   "source": [
    "s1 = F'{\"one\".upper()}'\n",
    "print(s1)"
   ]
  },
  {
   "cell_type": "code",
   "execution_count": null,
   "id": "8890e058-e514-480c-b63b-2f340c58f775",
   "metadata": {},
   "outputs": [],
   "source": []
  }
 ],
 "metadata": {
  "kernelspec": {
   "display_name": "Python 3 (ipykernel)",
   "language": "python",
   "name": "python3"
  },
  "language_info": {
   "codemirror_mode": {
    "name": "ipython",
    "version": 3
   },
   "file_extension": ".py",
   "mimetype": "text/x-python",
   "name": "python",
   "nbconvert_exporter": "python",
   "pygments_lexer": "ipython3",
   "version": "3.9.5"
  }
 },
 "nbformat": 4,
 "nbformat_minor": 5
}
