{
 "cells": [
  {
   "cell_type": "markdown",
   "id": "0276262d-29b5-4ed3-8315-bc210bdb04d1",
   "metadata": {},
   "source": [
    "## Comprehensions"
   ]
  },
  {
   "cell_type": "code",
   "execution_count": 2,
   "id": "9c445c20-8ef3-47cc-8e4f-ccd0bf2ce942",
   "metadata": {},
   "outputs": [
    {
     "name": "stdout",
     "output_type": "stream",
     "text": [
      "[0, 1, 2, 3, 4]\n"
     ]
    }
   ],
   "source": [
    "list1 = [x for x in range(5)]\n",
    "print(list1)"
   ]
  },
  {
   "cell_type": "code",
   "execution_count": 3,
   "id": "ea163a5d-9011-4a28-ac46-55912280e5f8",
   "metadata": {},
   "outputs": [
    {
     "name": "stdout",
     "output_type": "stream",
     "text": [
      "[2, 3, 4, 5, 6]\n"
     ]
    }
   ],
   "source": [
    "list1 = [x + 2 for x in range(5)]\n",
    "print(list1)"
   ]
  },
  {
   "cell_type": "code",
   "execution_count": 4,
   "id": "ab5f3a8b-de43-45c3-8d8c-e449ca1a5192",
   "metadata": {},
   "outputs": [
    {
     "name": "stdout",
     "output_type": "stream",
     "text": [
      "[0, 0, 0]\n"
     ]
    }
   ],
   "source": [
    "list1 = [0 for x in range(3)]\n",
    "print(list1)"
   ]
  },
  {
   "cell_type": "code",
   "execution_count": 5,
   "id": "1977829d-1f99-46ab-8eef-defd669ea180",
   "metadata": {},
   "outputs": [
    {
     "name": "stdout",
     "output_type": "stream",
     "text": [
      "[0, 2, 4, 6, 8]\n"
     ]
    }
   ],
   "source": [
    "list1 = [x for x in range(10) if x%2 == 0]\n",
    "print(list1)"
   ]
  },
  {
   "cell_type": "code",
   "execution_count": 6,
   "id": "be192961-7da3-4566-b1e5-e1f0094a19ea",
   "metadata": {},
   "outputs": [
    {
     "name": "stdout",
     "output_type": "stream",
     "text": [
      "{0: 0, 1: 0, 2: 0, 3: 0}\n"
     ]
    }
   ],
   "source": [
    "dict1 = {i:0 for i in range(4)}\n",
    "print(dict1)"
   ]
  },
  {
   "cell_type": "code",
   "execution_count": 7,
   "id": "2f13d5fe-22a9-491f-a29a-b2a47a2c02e5",
   "metadata": {},
   "outputs": [
    {
     "name": "stdout",
     "output_type": "stream",
     "text": [
      "{0, 1, 2, 3}\n"
     ]
    }
   ],
   "source": [
    "set1 = {i for i in range(4)}\n",
    "print(set1)"
   ]
  },
  {
   "cell_type": "code",
   "execution_count": 10,
   "id": "c8b23d9e-09d0-4573-b875-26c9c6cfb22b",
   "metadata": {},
   "outputs": [
    {
     "name": "stdout",
     "output_type": "stream",
     "text": [
      "<generator object <genexpr> at 0x7f83641bc5f0>\n"
     ]
    }
   ],
   "source": [
    "generator1 = (i for i in range(5)) # this is not a tuple\n",
    "print(generator1)"
   ]
  },
  {
   "cell_type": "code",
   "execution_count": 11,
   "id": "b0c2add1-af58-4a2e-b38b-a3be7b6b1084",
   "metadata": {},
   "outputs": [
    {
     "name": "stdout",
     "output_type": "stream",
     "text": [
      "(0, 1, 2, 3, 4)\n"
     ]
    }
   ],
   "source": [
    "tuple1 = tuple(i for i in range(5))\n",
    "print(tuple1)"
   ]
  },
  {
   "cell_type": "markdown",
   "id": "cc68bac0-bbce-4554-966e-ea22355ad1de",
   "metadata": {},
   "source": [
    "## Functions"
   ]
  },
  {
   "cell_type": "code",
   "execution_count": 12,
   "id": "15aef1e1-f59f-4448-ac9a-dbf7730b530c",
   "metadata": {},
   "outputs": [
    {
     "name": "stdout",
     "output_type": "stream",
     "text": [
      "foo\n"
     ]
    }
   ],
   "source": [
    "def foo():\n",
    "    print(\"foo\")\n",
    "foo()"
   ]
  },
  {
   "cell_type": "code",
   "execution_count": 13,
   "id": "63b3a4d2-6d86-498a-8343-54e45da00740",
   "metadata": {},
   "outputs": [
    {
     "name": "stdout",
     "output_type": "stream",
     "text": [
      "inner\n"
     ]
    }
   ],
   "source": [
    "def foo():\n",
    "    def inner_foo():\n",
    "        print(\"inner\")\n",
    "    inner_foo()\n",
    "foo()"
   ]
  },
  {
   "cell_type": "code",
   "execution_count": 14,
   "id": "b72458cf-6431-4735-87de-9dd4e97257b9",
   "metadata": {},
   "outputs": [
    {
     "name": "stdout",
     "output_type": "stream",
     "text": [
      "3\n"
     ]
    }
   ],
   "source": [
    "def foo(a, b):\n",
    "    return a + b\n",
    "print(foo(1,2))"
   ]
  },
  {
   "cell_type": "code",
   "execution_count": 15,
   "id": "25513f79-9143-4331-83ec-3c0cbe105705",
   "metadata": {},
   "outputs": [
    {
     "name": "stdout",
     "output_type": "stream",
     "text": [
      "(1, 2)\n"
     ]
    }
   ],
   "source": [
    "def foo(a, b):\n",
    "    return a, b #returns a tuple\n",
    "print(foo(1,2))"
   ]
  },
  {
   "cell_type": "code",
   "execution_count": 16,
   "id": "80299058-362d-44ef-ab82-fab9eb4f7d2f",
   "metadata": {},
   "outputs": [
    {
     "name": "stdout",
     "output_type": "stream",
     "text": [
      "1 2\n"
     ]
    }
   ],
   "source": [
    "def foo(a, b):\n",
    "    return a, b\n",
    "x, y = foo(1,2)\n",
    "print(x, y)"
   ]
  },
  {
   "cell_type": "code",
   "execution_count": 18,
   "id": "8d93c36a-9e2d-48c4-8ef2-ead66c1219ff",
   "metadata": {},
   "outputs": [
    {
     "name": "stdout",
     "output_type": "stream",
     "text": [
      "1 2 None\n"
     ]
    }
   ],
   "source": [
    "def foo(a, b, c=None): #optional parameter\n",
    "    print(a,b,c)\n",
    "foo(1,2)"
   ]
  },
  {
   "cell_type": "markdown",
   "id": "aa1526c3-ffcd-4ff2-8aa4-b76f9e56f686",
   "metadata": {},
   "source": [
    "## Unpacking"
   ]
  },
  {
   "cell_type": "code",
   "execution_count": 19,
   "id": "e20f6b6f-1757-46a1-b41b-092b11c0dd86",
   "metadata": {},
   "outputs": [
    {
     "name": "stdout",
     "output_type": "stream",
     "text": [
      "1 2 3\n"
     ]
    }
   ],
   "source": [
    "list = [1,2,3]\n",
    "print(*list)"
   ]
  },
  {
   "cell_type": "code",
   "execution_count": 20,
   "id": "6a7242e0-254b-4bf3-bb3c-47409d865eed",
   "metadata": {},
   "outputs": [
    {
     "name": "stdout",
     "output_type": "stream",
     "text": [
      "1 2\n"
     ]
    }
   ],
   "source": [
    "def foo(*args):\n",
    "    print(*args)\n",
    "foo(1,2)"
   ]
  },
  {
   "cell_type": "code",
   "execution_count": 21,
   "id": "d5525eb9-25d7-458f-b780-0d5ece76e3c8",
   "metadata": {},
   "outputs": [
    {
     "name": "stdout",
     "output_type": "stream",
     "text": [
      "1 2\n"
     ]
    }
   ],
   "source": [
    "print(*{1:'a',2:'b'}) "
   ]
  },
  {
   "cell_type": "code",
   "execution_count": 27,
   "id": "25e9a02d-1ce8-4a41-bb33-d5fb4744689f",
   "metadata": {},
   "outputs": [
    {
     "name": "stdout",
     "output_type": "stream",
     "text": [
      "a b\n"
     ]
    }
   ],
   "source": [
    "def foo(x, y):\n",
    "    print(x, y)\n",
    "foo(**{'x':'a','y':'b'}) # ** is used for dictionaries. keys must be names of functions arguments "
   ]
  },
  {
   "cell_type": "markdown",
   "id": "3c5c2a1a-b1fb-4275-a7a2-72fb1ebc9b3c",
   "metadata": {},
   "source": [
    "## Scopes"
   ]
  },
  {
   "cell_type": "code",
   "execution_count": 29,
   "id": "e687d8c0-f79b-4e23-9051-1bca75b619ef",
   "metadata": {},
   "outputs": [
    {
     "name": "stdout",
     "output_type": "stream",
     "text": [
      "1\n"
     ]
    }
   ],
   "source": [
    "x = 1\n",
    "def foo():\n",
    "    x = 2 #local scope\n",
    "foo()\n",
    "print(x)"
   ]
  },
  {
   "cell_type": "code",
   "execution_count": 32,
   "id": "be3defa6-e90e-4302-93a4-9e10cd9979ff",
   "metadata": {},
   "outputs": [
    {
     "name": "stdout",
     "output_type": "stream",
     "text": [
      "2\n"
     ]
    }
   ],
   "source": [
    "x = 1\n",
    "def foo():\n",
    "    global x #make x a global variable DON'T USE IT\n",
    "    x = 2\n",
    "foo()\n",
    "print(x)"
   ]
  },
  {
   "cell_type": "code",
   "execution_count": null,
   "id": "3f318bb5-f60b-46c5-b6dc-37be67666350",
   "metadata": {},
   "outputs": [],
   "source": []
  }
 ],
 "metadata": {
  "kernelspec": {
   "display_name": "Python 3 (ipykernel)",
   "language": "python",
   "name": "python3"
  },
  "language_info": {
   "codemirror_mode": {
    "name": "ipython",
    "version": 3
   },
   "file_extension": ".py",
   "mimetype": "text/x-python",
   "name": "python",
   "nbconvert_exporter": "python",
   "pygments_lexer": "ipython3",
   "version": "3.9.5"
  }
 },
 "nbformat": 4,
 "nbformat_minor": 5
}
