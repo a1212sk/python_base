{
 "cells": [
  {
   "cell_type": "markdown",
   "id": "640c1bcf-8375-4b87-ba13-886547a1b436",
   "metadata": {},
   "source": [
    "# Collections"
   ]
  },
  {
   "cell_type": "markdown",
   "id": "f9fbb0a7-b8b0-43a0-99f2-2d7a9f5fc33e",
   "metadata": {},
   "source": [
    "## Lists"
   ]
  },
  {
   "cell_type": "code",
   "execution_count": 1,
   "id": "940b689f-468c-4d65-b49b-1ab3ade2929e",
   "metadata": {},
   "outputs": [],
   "source": [
    "list1 = []"
   ]
  },
  {
   "cell_type": "code",
   "execution_count": 2,
   "id": "c1acf913-ec06-4eac-8f08-868ac6226335",
   "metadata": {},
   "outputs": [],
   "source": [
    "list1 = [1,2,3,4.0,'5']"
   ]
  },
  {
   "cell_type": "code",
   "execution_count": 3,
   "id": "dbeadbdf-3963-4c1b-9af9-35eb3b2538c1",
   "metadata": {},
   "outputs": [
    {
     "data": {
      "text/plain": [
       "4.0"
      ]
     },
     "execution_count": 3,
     "metadata": {},
     "output_type": "execute_result"
    }
   ],
   "source": [
    "list1[3]"
   ]
  },
  {
   "cell_type": "code",
   "execution_count": 4,
   "id": "284beab2-77bc-4f4d-a7b7-fd678777e432",
   "metadata": {},
   "outputs": [
    {
     "data": {
      "text/plain": [
       "list"
      ]
     },
     "execution_count": 4,
     "metadata": {},
     "output_type": "execute_result"
    }
   ],
   "source": [
    "type(list1)"
   ]
  },
  {
   "cell_type": "code",
   "execution_count": 5,
   "id": "ac18d694-18fb-40db-a063-7b60715332a0",
   "metadata": {},
   "outputs": [
    {
     "data": {
      "text/plain": [
       "5"
      ]
     },
     "execution_count": 5,
     "metadata": {},
     "output_type": "execute_result"
    }
   ],
   "source": [
    "len(list1)"
   ]
  },
  {
   "cell_type": "code",
   "execution_count": 6,
   "id": "f3ef53ad-3886-4198-8213-9e32f54b75ec",
   "metadata": {},
   "outputs": [
    {
     "data": {
      "text/plain": [
       "3"
      ]
     },
     "execution_count": 6,
     "metadata": {},
     "output_type": "execute_result"
    }
   ],
   "source": [
    "len(\"str\")"
   ]
  },
  {
   "cell_type": "code",
   "execution_count": 7,
   "id": "0fe6714e-9a0d-436b-99da-f6b406a6fb1f",
   "metadata": {},
   "outputs": [
    {
     "data": {
      "text/plain": [
       "6"
      ]
     },
     "execution_count": 7,
     "metadata": {},
     "output_type": "execute_result"
    }
   ],
   "source": [
    "list1.append(\"one more element\")\n",
    "len(list1)"
   ]
  },
  {
   "cell_type": "code",
   "execution_count": 8,
   "id": "11936c68-eb6f-4416-8f00-71921d15f380",
   "metadata": {},
   "outputs": [
    {
     "data": {
      "text/plain": [
       "9"
      ]
     },
     "execution_count": 8,
     "metadata": {},
     "output_type": "execute_result"
    }
   ],
   "source": [
    "list1.extend([55,66,77])\n",
    "len(list1)"
   ]
  },
  {
   "cell_type": "code",
   "execution_count": 9,
   "id": "0da35a6a-823b-4859-9426-82869340d35d",
   "metadata": {},
   "outputs": [
    {
     "data": {
      "text/plain": [
       "77"
      ]
     },
     "execution_count": 9,
     "metadata": {},
     "output_type": "execute_result"
    }
   ],
   "source": [
    "list1.pop() #remove and return the last element"
   ]
  },
  {
   "cell_type": "code",
   "execution_count": 10,
   "id": "9bffe375-a046-4ff3-b954-35e2606a035e",
   "metadata": {},
   "outputs": [
    {
     "data": {
      "text/plain": [
       "1"
      ]
     },
     "execution_count": 10,
     "metadata": {},
     "output_type": "execute_result"
    }
   ],
   "source": [
    "list1.pop(0) #removes the first element"
   ]
  },
  {
   "cell_type": "code",
   "execution_count": 11,
   "id": "cb6a819a-3932-4992-b128-64e64477ac09",
   "metadata": {},
   "outputs": [
    {
     "name": "stdout",
     "output_type": "stream",
     "text": [
      "[0, 1, 2] [0, 1, 2]\n"
     ]
    }
   ],
   "source": [
    "list1 = [0,1,2]\n",
    "list2 = list1 # list1 and list2 are the same \n",
    "print(list1, list2)"
   ]
  },
  {
   "cell_type": "code",
   "execution_count": 12,
   "id": "ce1531e1-527e-4a94-bd30-fa809ee7482c",
   "metadata": {},
   "outputs": [
    {
     "name": "stdout",
     "output_type": "stream",
     "text": [
      "[0, 1, 2] [0, 1]\n"
     ]
    }
   ],
   "source": [
    "list1 = [0,1,2]\n",
    "list2 = list1[:] #copy the list\n",
    "list2.pop()\n",
    "print(list1, list2)"
   ]
  },
  {
   "cell_type": "code",
   "execution_count": 13,
   "id": "dd852ebb-5836-420c-9979-c8a169f48cbb",
   "metadata": {},
   "outputs": [
    {
     "name": "stdout",
     "output_type": "stream",
     "text": [
      "[1, 2]\n"
     ]
    }
   ],
   "source": [
    "del list1[0]\n",
    "print(list1)"
   ]
  },
  {
   "cell_type": "markdown",
   "id": "d914e178-5484-47b4-8a2b-ecb4528f793b",
   "metadata": {},
   "source": [
    "## Tuples "
   ]
  },
  {
   "cell_type": "markdown",
   "id": "5d48d91f-4c15-4bb7-895f-542d6eb1f952",
   "metadata": {},
   "source": [
    "### Tuples are immutable lists"
   ]
  },
  {
   "cell_type": "code",
   "execution_count": 14,
   "id": "4c98f04d-0473-46ef-afac-fc91416e3baa",
   "metadata": {},
   "outputs": [],
   "source": [
    "t1 = (0,1,2)"
   ]
  },
  {
   "cell_type": "code",
   "execution_count": 15,
   "id": "31b077a9-9ade-4039-ac03-77d08e8385de",
   "metadata": {},
   "outputs": [
    {
     "data": {
      "text/plain": [
       "tuple"
      ]
     },
     "execution_count": 15,
     "metadata": {},
     "output_type": "execute_result"
    }
   ],
   "source": [
    "type(t1)"
   ]
  },
  {
   "cell_type": "code",
   "execution_count": 16,
   "id": "260e4ecd-a221-492f-aad2-9fe1f1f2b2a8",
   "metadata": {},
   "outputs": [
    {
     "ename": "TypeError",
     "evalue": "'tuple' object does not support item assignment",
     "output_type": "error",
     "traceback": [
      "\u001b[0;31m---------------------------------------------------------------------------\u001b[0m",
      "\u001b[0;31mTypeError\u001b[0m                                 Traceback (most recent call last)",
      "\u001b[0;32m/tmp/ipykernel_15922/1887237040.py\u001b[0m in \u001b[0;36m<module>\u001b[0;34m\u001b[0m\n\u001b[0;32m----> 1\u001b[0;31m \u001b[0mt1\u001b[0m\u001b[0;34m[\u001b[0m\u001b[0;36m0\u001b[0m\u001b[0;34m]\u001b[0m \u001b[0;34m=\u001b[0m \u001b[0;36m9\u001b[0m \u001b[0;31m#error\u001b[0m\u001b[0;34m\u001b[0m\u001b[0;34m\u001b[0m\u001b[0m\n\u001b[0m",
      "\u001b[0;31mTypeError\u001b[0m: 'tuple' object does not support item assignment"
     ]
    }
   ],
   "source": [
    "t1[0] = 9 #error"
   ]
  },
  {
   "cell_type": "markdown",
   "id": "0ab765fb-89bb-4794-a870-cb29c31a6487",
   "metadata": {},
   "source": [
    "## Combinations of lists and tuples"
   ]
  },
  {
   "cell_type": "code",
   "execution_count": null,
   "id": "252c22e3-c7f9-45d6-bf0b-3b307e57e3c5",
   "metadata": {},
   "outputs": [],
   "source": [
    "l1 = [ (), 0, [], (0,1,2)]"
   ]
  },
  {
   "cell_type": "code",
   "execution_count": null,
   "id": "2c57f108-85df-42eb-956b-9244a149945c",
   "metadata": {},
   "outputs": [],
   "source": [
    "print(l1)"
   ]
  },
  {
   "cell_type": "code",
   "execution_count": null,
   "id": "1e56ae23-3b52-4f4c-a306-4c6b315df78f",
   "metadata": {},
   "outputs": [],
   "source": [
    "t1 = ((),(),[])\n",
    "t1[2].append(1)\n",
    "print(t1)"
   ]
  },
  {
   "cell_type": "code",
   "execution_count": null,
   "id": "11ff8a3c-a712-4bb3-a270-058c2000dcd7",
   "metadata": {},
   "outputs": [],
   "source": []
  }
 ],
 "metadata": {
  "kernelspec": {
   "display_name": "Python 3 (ipykernel)",
   "language": "python",
   "name": "python3"
  },
  "language_info": {
   "codemirror_mode": {
    "name": "ipython",
    "version": 3
   },
   "file_extension": ".py",
   "mimetype": "text/x-python",
   "name": "python",
   "nbconvert_exporter": "python",
   "pygments_lexer": "ipython3",
   "version": "3.9.5"
  }
 },
 "nbformat": 4,
 "nbformat_minor": 5
}
