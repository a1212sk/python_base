{
 "cells": [
  {
   "cell_type": "markdown",
   "id": "0c621d0f-cbb4-4085-863a-3c802afa9da9",
   "metadata": {
    "tags": []
   },
   "source": [
    "# Data types"
   ]
  },
  {
   "cell_type": "raw",
   "id": "50cecda4-c9bd-45b7-a50b-b1f37f83c7b3",
   "metadata": {},
   "source": [
    "Core data types:"
   ]
  },
  {
   "cell_type": "markdown",
   "id": "2a4f795d-b8ad-44f1-87fd-82870205e748",
   "metadata": {},
   "source": [
    "<b>String</b>"
   ]
  },
  {
   "cell_type": "code",
   "execution_count": 15,
   "id": "a4ed3071-191c-433f-80fb-74ce91a66b38",
   "metadata": {},
   "outputs": [],
   "source": [
    "var1 = 'str'"
   ]
  },
  {
   "cell_type": "markdown",
   "id": "259c3030-2cc0-4373-8a47-35ae9651e99f",
   "metadata": {},
   "source": [
    "<b>Int</b>"
   ]
  },
  {
   "cell_type": "code",
   "execution_count": 16,
   "id": "a163cf00-86d8-4e6a-aed2-ff88b0c30419",
   "metadata": {},
   "outputs": [],
   "source": [
    "var2 = 34567"
   ]
  },
  {
   "cell_type": "markdown",
   "id": "a6ab0f55-c57f-4063-82e1-2879287eeb87",
   "metadata": {},
   "source": [
    "<b>Bool</b>"
   ]
  },
  {
   "cell_type": "code",
   "execution_count": 17,
   "id": "04411d7c-7885-44f2-b668-4146392cff90",
   "metadata": {},
   "outputs": [],
   "source": [
    "var3 = True"
   ]
  },
  {
   "cell_type": "markdown",
   "id": "8099c32b-6fb9-4736-808b-36624e7ccfa6",
   "metadata": {},
   "source": [
    "<b>Float</b>"
   ]
  },
  {
   "cell_type": "code",
   "execution_count": 20,
   "id": "a1607c5a-7c62-4d21-923b-bdea849a8986",
   "metadata": {},
   "outputs": [],
   "source": [
    "var4 = -34.562"
   ]
  },
  {
   "cell_type": "markdown",
   "id": "af0e5e86-11f3-47e7-a95e-86bbb365c849",
   "metadata": {},
   "source": [
    "# Printing:"
   ]
  },
  {
   "cell_type": "code",
   "execution_count": 22,
   "id": "fde9b01f-67bd-41de-8da9-e0a4216d0cff",
   "metadata": {},
   "outputs": [
    {
     "name": "stdout",
     "output_type": "stream",
     "text": [
      "True|"
     ]
    }
   ],
   "source": [
    "print(True, end='|')"
   ]
  },
  {
   "cell_type": "code",
   "execution_count": 23,
   "id": "6bd626c5-baad-4292-b5dc-55ca5fc68b66",
   "metadata": {},
   "outputs": [
    {
     "name": "stdout",
     "output_type": "stream",
     "text": [
      "True False\n"
     ]
    }
   ],
   "source": [
    "print(True, False)"
   ]
  },
  {
   "cell_type": "code",
   "execution_count": 24,
   "id": "5ad5273c-3923-4bb5-b990-649573654b0a",
   "metadata": {},
   "outputs": [
    {
     "name": "stdout",
     "output_type": "stream",
     "text": [
      "True|False\n"
     ]
    }
   ],
   "source": [
    "print(True, False, sep='|')"
   ]
  },
  {
   "cell_type": "markdown",
   "id": "959b8f2f-37df-4248-8c4d-02377ae6fcfc",
   "metadata": {},
   "source": [
    "# Variables"
   ]
  },
  {
   "cell_type": "code",
   "execution_count": 25,
   "id": "188f41e6-108d-46e0-a5e1-2d576ebdb049",
   "metadata": {},
   "outputs": [],
   "source": [
    "hello = 'moi'"
   ]
  },
  {
   "cell_type": "code",
   "execution_count": 26,
   "id": "05742355-9287-4b1e-8654-4dc0455d6a9d",
   "metadata": {},
   "outputs": [],
   "source": [
    "world = 'maailma'"
   ]
  },
  {
   "cell_type": "code",
   "execution_count": 27,
   "id": "321171b6-c415-4ebf-af9a-e5c292b2c129",
   "metadata": {},
   "outputs": [
    {
     "name": "stdout",
     "output_type": "stream",
     "text": [
      "moi maailma\n"
     ]
    }
   ],
   "source": [
    "print(hello, world)"
   ]
  },
  {
   "cell_type": "markdown",
   "id": "dde91ce2-b668-4116-84c8-218504b203fe",
   "metadata": {},
   "source": [
    "# Naming Convension"
   ]
  },
  {
   "cell_type": "code",
   "execution_count": 28,
   "id": "98ea5ebd-e1b0-4932-8b2e-8680b8ba9f00",
   "metadata": {},
   "outputs": [],
   "source": [
    "class CamelCase:\n",
    "    pass"
   ]
  },
  {
   "cell_type": "code",
   "execution_count": 29,
   "id": "906cab68-bf38-4830-9983-a9c005e1950c",
   "metadata": {},
   "outputs": [],
   "source": [
    "def some_method():\n",
    "    pass"
   ]
  },
  {
   "cell_type": "code",
   "execution_count": 30,
   "id": "317dd008-d9a5-42b7-bb82-687958e4de97",
   "metadata": {},
   "outputs": [],
   "source": [
    "some_variable = 1"
   ]
  },
  {
   "cell_type": "code",
   "execution_count": 31,
   "id": "652369e7-395a-4c7b-9961-7d38833763c2",
   "metadata": {},
   "outputs": [],
   "source": [
    "SOME_CONSTANT = 3.14"
   ]
  },
  {
   "cell_type": "markdown",
   "id": "b5b5da01-db76-4f16-8f39-9979e1318086",
   "metadata": {},
   "source": [
    "# User Input"
   ]
  },
  {
   "cell_type": "code",
   "execution_count": 32,
   "id": "41a755f5-a146-4de1-8d99-4c518ce7f953",
   "metadata": {},
   "outputs": [
    {
     "name": "stdin",
     "output_type": "stream",
     "text": [
      "Enter some number: 4\n"
     ]
    },
    {
     "data": {
      "text/plain": [
       "'4'"
      ]
     },
     "execution_count": 32,
     "metadata": {},
     "output_type": "execute_result"
    }
   ],
   "source": [
    "input(\"Enter some number:\")"
   ]
  },
  {
   "cell_type": "code",
   "execution_count": 33,
   "id": "304fbc41-e8dd-4581-8224-96f2b048769b",
   "metadata": {},
   "outputs": [
    {
     "name": "stdin",
     "output_type": "stream",
     "text": [
      "Enter a number: 8\n"
     ]
    }
   ],
   "source": [
    "i1 = input(\"Enter a number:\")"
   ]
  },
  {
   "cell_type": "code",
   "execution_count": 34,
   "id": "2e3920b9-5091-4182-ac27-0a53de8ffc44",
   "metadata": {},
   "outputs": [
    {
     "name": "stdout",
     "output_type": "stream",
     "text": [
      "8\n"
     ]
    }
   ],
   "source": [
    "print(i1)"
   ]
  },
  {
   "cell_type": "markdown",
   "id": "e62d4bc7-46cc-4861-9fb1-4ce39c6bdc30",
   "metadata": {},
   "source": [
    "# Arithmetic Operations"
   ]
  },
  {
   "cell_type": "code",
   "execution_count": 35,
   "id": "b978be9b-a8fd-4fc4-bba9-754d89a1db99",
   "metadata": {},
   "outputs": [
    {
     "ename": "TypeError",
     "evalue": "can only concatenate str (not \"int\") to str",
     "output_type": "error",
     "traceback": [
      "\u001b[0;31m---------------------------------------------------------------------------\u001b[0m",
      "\u001b[0;31mTypeError\u001b[0m                                 Traceback (most recent call last)",
      "\u001b[0;32m/tmp/ipykernel_25434/2059299389.py\u001b[0m in \u001b[0;36m<module>\u001b[0;34m\u001b[0m\n\u001b[0;32m----> 1\u001b[0;31m \u001b[0;34m'str'\u001b[0m \u001b[0;34m+\u001b[0m \u001b[0;36m2\u001b[0m\u001b[0;34m\u001b[0m\u001b[0;34m\u001b[0m\u001b[0m\n\u001b[0m",
      "\u001b[0;31mTypeError\u001b[0m: can only concatenate str (not \"int\") to str"
     ]
    }
   ],
   "source": [
    "'str' + 2"
   ]
  },
  {
   "cell_type": "code",
   "execution_count": 36,
   "id": "63de1e6e-34ed-46e2-8ea6-cc3b91553c34",
   "metadata": {},
   "outputs": [
    {
     "ename": "TypeError",
     "evalue": "unsupported operand type(s) for /: 'str' and 'int'",
     "output_type": "error",
     "traceback": [
      "\u001b[0;31m---------------------------------------------------------------------------\u001b[0m",
      "\u001b[0;31mTypeError\u001b[0m                                 Traceback (most recent call last)",
      "\u001b[0;32m/tmp/ipykernel_25434/2981412992.py\u001b[0m in \u001b[0;36m<module>\u001b[0;34m\u001b[0m\n\u001b[0;32m----> 1\u001b[0;31m \u001b[0;34m'str'\u001b[0m \u001b[0;34m/\u001b[0m \u001b[0;36m1\u001b[0m\u001b[0;34m\u001b[0m\u001b[0;34m\u001b[0m\u001b[0m\n\u001b[0m",
      "\u001b[0;31mTypeError\u001b[0m: unsupported operand type(s) for /: 'str' and 'int'"
     ]
    }
   ],
   "source": [
    "'str' / 1"
   ]
  },
  {
   "cell_type": "code",
   "execution_count": 37,
   "id": "9f8f2105-51e9-4b3e-bc22-82ac3f6d1883",
   "metadata": {},
   "outputs": [
    {
     "ename": "TypeError",
     "evalue": "unsupported operand type(s) for +: 'int' and 'str'",
     "output_type": "error",
     "traceback": [
      "\u001b[0;31m---------------------------------------------------------------------------\u001b[0m",
      "\u001b[0;31mTypeError\u001b[0m                                 Traceback (most recent call last)",
      "\u001b[0;32m/tmp/ipykernel_25434/3708474677.py\u001b[0m in \u001b[0;36m<module>\u001b[0;34m\u001b[0m\n\u001b[0;32m----> 1\u001b[0;31m \u001b[0;36m2\u001b[0m \u001b[0;34m+\u001b[0m \u001b[0;34m'str'\u001b[0m\u001b[0;34m\u001b[0m\u001b[0;34m\u001b[0m\u001b[0m\n\u001b[0m",
      "\u001b[0;31mTypeError\u001b[0m: unsupported operand type(s) for +: 'int' and 'str'"
     ]
    }
   ],
   "source": [
    "2 + 'str'"
   ]
  },
  {
   "cell_type": "code",
   "execution_count": 38,
   "id": "7c4322af-e85e-4274-878f-22fc80596fd3",
   "metadata": {},
   "outputs": [
    {
     "data": {
      "text/plain": [
       "'strstr'"
      ]
     },
     "execution_count": 38,
     "metadata": {},
     "output_type": "execute_result"
    }
   ],
   "source": [
    "'str' * 2"
   ]
  },
  {
   "cell_type": "markdown",
   "id": "df8b7f95-6324-4607-87f8-7a923fe9ddc8",
   "metadata": {},
   "source": [
    "### Division "
   ]
  },
  {
   "cell_type": "code",
   "execution_count": 40,
   "id": "1c6c295d-2dce-480a-99e1-d109f52e8723",
   "metadata": {},
   "outputs": [
    {
     "name": "stdout",
     "output_type": "stream",
     "text": [
      "3.0\n"
     ]
    }
   ],
   "source": [
    "v1 = 9\n",
    "v2 = 3\n",
    "print(v1 / v2)"
   ]
  },
  {
   "cell_type": "code",
   "execution_count": 41,
   "id": "d133c653-66f3-4dc3-86a8-6048ff85570e",
   "metadata": {},
   "outputs": [
    {
     "name": "stdout",
     "output_type": "stream",
     "text": [
      "3\n"
     ]
    }
   ],
   "source": [
    "v1 = 9\n",
    "v2 = 3\n",
    "print(int(v1 / v2))"
   ]
  },
  {
   "cell_type": "markdown",
   "id": "01b7d5f3-f3f7-4940-a74b-0becb0e3bff3",
   "metadata": {},
   "source": [
    "### Floor division "
   ]
  },
  {
   "cell_type": "code",
   "execution_count": 42,
   "id": "2b79ef1f-3b53-43e8-a6d8-6adaccfee31a",
   "metadata": {},
   "outputs": [
    {
     "data": {
      "text/plain": [
       "4"
      ]
     },
     "execution_count": 42,
     "metadata": {},
     "output_type": "execute_result"
    }
   ],
   "source": [
    "9//2"
   ]
  },
  {
   "cell_type": "markdown",
   "id": "b7978415-5a05-4972-816b-4bea2c8e5353",
   "metadata": {},
   "source": [
    "### Power"
   ]
  },
  {
   "cell_type": "code",
   "execution_count": 43,
   "id": "95c16627-4010-418a-b555-9fa46f6ae0dc",
   "metadata": {},
   "outputs": [
    {
     "data": {
      "text/plain": [
       "9"
      ]
     },
     "execution_count": 43,
     "metadata": {},
     "output_type": "execute_result"
    }
   ],
   "source": [
    "3 ** 2"
   ]
  },
  {
   "cell_type": "markdown",
   "id": "dab562d3-df3a-44b2-80b4-061ff604c235",
   "metadata": {},
   "source": [
    "### Remainder"
   ]
  },
  {
   "cell_type": "code",
   "execution_count": 44,
   "id": "35dd36e2-6a51-4bc6-8e9c-c38e6d53339c",
   "metadata": {},
   "outputs": [
    {
     "data": {
      "text/plain": [
       "1"
      ]
     },
     "execution_count": 44,
     "metadata": {},
     "output_type": "execute_result"
    }
   ],
   "source": [
    "10 % 3"
   ]
  }
 ],
 "metadata": {
  "kernelspec": {
   "display_name": "Python 3 (ipykernel)",
   "language": "python",
   "name": "python3"
  },
  "language_info": {
   "codemirror_mode": {
    "name": "ipython",
    "version": 3
   },
   "file_extension": ".py",
   "mimetype": "text/x-python",
   "name": "python",
   "nbconvert_exporter": "python",
   "pygments_lexer": "ipython3",
   "version": "3.9.5"
  }
 },
 "nbformat": 4,
 "nbformat_minor": 5
}
