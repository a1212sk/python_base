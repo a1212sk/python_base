{
 "cells": [
  {
   "cell_type": "markdown",
   "id": "75ed83a1-9478-412a-8b8e-caaa8f2d8c52",
   "metadata": {},
   "source": [
    "# Slice operator"
   ]
  },
  {
   "cell_type": "code",
   "execution_count": 2,
   "id": "a297a681-e15c-4114-8c4f-6f0d33aa7a2a",
   "metadata": {},
   "outputs": [
    {
     "data": {
      "text/plain": [
       "[1, 2, 3, 4]"
      ]
     },
     "execution_count": 2,
     "metadata": {},
     "output_type": "execute_result"
    }
   ],
   "source": [
    "list = [0,1,2,3,4,5]\n",
    "list[1:5:1] # [start:stop:step]"
   ]
  },
  {
   "cell_type": "code",
   "execution_count": 3,
   "id": "c805c6c2-0967-464b-9d35-05806909a19f",
   "metadata": {},
   "outputs": [
    {
     "data": {
      "text/plain": [
       "[0, 1, 2]"
      ]
     },
     "execution_count": 3,
     "metadata": {},
     "output_type": "execute_result"
    }
   ],
   "source": [
    "list[:3]"
   ]
  },
  {
   "cell_type": "code",
   "execution_count": 4,
   "id": "976b2e70-7269-43ec-9e15-63d7d848ef14",
   "metadata": {},
   "outputs": [
    {
     "data": {
      "text/plain": [
       "[0, 2, 4]"
      ]
     },
     "execution_count": 4,
     "metadata": {},
     "output_type": "execute_result"
    }
   ],
   "source": [
    "list[::2]"
   ]
  },
  {
   "cell_type": "code",
   "execution_count": 5,
   "id": "66a0ffdf-b56b-400b-99c7-761ae1f2665f",
   "metadata": {},
   "outputs": [
    {
     "data": {
      "text/plain": [
       "[0, 1, 2, 3, 4, 5]"
      ]
     },
     "execution_count": 5,
     "metadata": {},
     "output_type": "execute_result"
    }
   ],
   "source": [
    "list[0::]"
   ]
  },
  {
   "cell_type": "code",
   "execution_count": 6,
   "id": "82dfad38-40cf-42de-8504-e93dfdd32128",
   "metadata": {},
   "outputs": [
    {
     "data": {
      "text/plain": [
       "[2, 3, 4, 5]"
      ]
     },
     "execution_count": 6,
     "metadata": {},
     "output_type": "execute_result"
    }
   ],
   "source": [
    "list[2:]"
   ]
  },
  {
   "cell_type": "code",
   "execution_count": 7,
   "id": "08adf929-be02-481e-a330-ad6f6f55cd16",
   "metadata": {},
   "outputs": [
    {
     "data": {
      "text/plain": [
       "[5, 4, 3, 2, 1, 0]"
      ]
     },
     "execution_count": 7,
     "metadata": {},
     "output_type": "execute_result"
    }
   ],
   "source": [
    "list[::-1] #reverse"
   ]
  },
  {
   "cell_type": "code",
   "execution_count": 8,
   "id": "2ae706f7-4cff-46be-b0e1-46abd607c95a",
   "metadata": {},
   "outputs": [
    {
     "data": {
      "text/plain": [
       "'olleh'"
      ]
     },
     "execution_count": 8,
     "metadata": {},
     "output_type": "execute_result"
    }
   ],
   "source": [
    "\"hello\"[::-1] #strings"
   ]
  },
  {
   "cell_type": "code",
   "execution_count": 10,
   "id": "5d6c1b78-c521-4e68-a8a4-1c350848d70b",
   "metadata": {},
   "outputs": [
    {
     "data": {
      "text/plain": [
       "(2, 3)"
      ]
     },
     "execution_count": 10,
     "metadata": {},
     "output_type": "execute_result"
    }
   ],
   "source": [
    "(1,2,3)[1:] #tuples"
   ]
  },
  {
   "cell_type": "code",
   "execution_count": null,
   "id": "a5681581-3f15-4cd1-955c-d89915d25bbe",
   "metadata": {},
   "outputs": [],
   "source": []
  }
 ],
 "metadata": {
  "kernelspec": {
   "display_name": "Python 3 (ipykernel)",
   "language": "python",
   "name": "python3"
  },
  "language_info": {
   "codemirror_mode": {
    "name": "ipython",
    "version": 3
   },
   "file_extension": ".py",
   "mimetype": "text/x-python",
   "name": "python",
   "nbconvert_exporter": "python",
   "pygments_lexer": "ipython3",
   "version": "3.9.5"
  }
 },
 "nbformat": 4,
 "nbformat_minor": 5
}
